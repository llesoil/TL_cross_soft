{
 "cells": [
  {
   "cell_type": "markdown",
   "metadata": {},
   "source": [
    "### Notebook summarizing the results of our VaMoS submission\n"
   ]
  },
  {
   "cell_type": "markdown",
   "metadata": {},
   "source": [
    "Libraries"
   ]
  },
  {
   "cell_type": "code",
   "execution_count": 2,
   "metadata": {},
   "outputs": [],
   "source": [
    "# for arrays\n",
    "import numpy as np\n",
    "\n",
    "# for dataframes\n",
    "import pandas as pd\n",
    "\n",
    "# plots\n",
    "import matplotlib.pyplot as plt\n",
    "# high-level plots\n",
    "import seaborn as sns\n",
    "\n",
    "# statistics\n",
    "import scipy.stats as sc\n",
    "# hierarchical clustering, clusters\n",
    "from scipy.cluster.hierarchy import linkage, cut_tree, leaves_list\n",
    "from scipy import stats\n",
    "# statistical tests\n",
    "from scipy.stats import mannwhitneyu\n",
    "\n",
    "# machine learning library\n",
    "# Principal Component Analysis - determine new axis for representing data\n",
    "from sklearn.decomposition import PCA\n",
    "# Random Forests -> vote between decision trees\n",
    "# Gradient boosting -> instead of a vote, upgrade the same tree\n",
    "from sklearn.ensemble import RandomForestRegressor, RandomForestClassifier, GradientBoostingClassifier\n",
    "# Decision Tree\n",
    "from sklearn.tree import DecisionTreeRegressor, plot_tree\n",
    "# To add interactions in linear regressions models\n",
    "from sklearn.preprocessing import PolynomialFeatures\n",
    "# Elasticnet is an hybrid method between ridge and Lasso\n",
    "from sklearn.linear_model import LinearRegression, ElasticNet\n",
    "# To separate the data into training and test\n",
    "from sklearn.model_selection import train_test_split\n",
    "# Simple clustering (iterative steps)\n",
    "from sklearn.cluster import KMeans\n",
    "# get interactions of features\n",
    "from sklearn.preprocessing import PolynomialFeatures\n",
    "\n",
    "\n",
    "# we use it to interact with the file system\n",
    "import os\n",
    "# compute time\n",
    "from time import time\n",
    "\n",
    "# statistics\n",
    "import scipy.stats as sc\n",
    "# hierarchical clustering, clusters\n",
    "from scipy.cluster.hierarchy import linkage, cut_tree, leaves_list\n",
    "from scipy import stats\n",
    "# statistical tests\n",
    "from scipy.stats import mannwhitneyu\n",
    "\n",
    "# no warning\n",
    "import warnings\n",
    "warnings.filterwarnings(\"ignore\")"
   ]
  },
  {
   "cell_type": "markdown",
   "metadata": {},
   "source": [
    "### Import data"
   ]
  },
  {
   "cell_type": "code",
   "execution_count": 3,
   "metadata": {},
   "outputs": [
    {
     "data": {
      "text/html": [
       "<div>\n",
       "<style scoped>\n",
       "    .dataframe tbody tr th:only-of-type {\n",
       "        vertical-align: middle;\n",
       "    }\n",
       "\n",
       "    .dataframe tbody tr th {\n",
       "        vertical-align: top;\n",
       "    }\n",
       "\n",
       "    .dataframe thead th {\n",
       "        text-align: right;\n",
       "    }\n",
       "</style>\n",
       "<table border=\"1\" class=\"dataframe\">\n",
       "  <thead>\n",
       "    <tr style=\"text-align: right;\">\n",
       "      <th></th>\n",
       "      <th>configurationID</th>\n",
       "      <th>aud</th>\n",
       "      <th>constrained-intra</th>\n",
       "      <th>intra-refresh</th>\n",
       "      <th>no-asm</th>\n",
       "      <th>slow-firstpass</th>\n",
       "      <th>weightb</th>\n",
       "      <th>aq-strength</th>\n",
       "      <th>ipratio</th>\n",
       "      <th>pbratio</th>\n",
       "      <th>...</th>\n",
       "      <th>preset</th>\n",
       "      <th>scenecut</th>\n",
       "      <th>tune</th>\n",
       "      <th>size</th>\n",
       "      <th>user</th>\n",
       "      <th>system</th>\n",
       "      <th>cpu</th>\n",
       "      <th>fps</th>\n",
       "      <th>kbs</th>\n",
       "      <th>etime</th>\n",
       "    </tr>\n",
       "  </thead>\n",
       "  <tbody>\n",
       "    <tr>\n",
       "      <th>0</th>\n",
       "      <td>1</td>\n",
       "      <td>None</td>\n",
       "      <td>--constrained-intra</td>\n",
       "      <td>None</td>\n",
       "      <td>None</td>\n",
       "      <td>None</td>\n",
       "      <td>--weightb</td>\n",
       "      <td>0.0</td>\n",
       "      <td>1.0</td>\n",
       "      <td>1.0</td>\n",
       "      <td>...</td>\n",
       "      <td>veryslow</td>\n",
       "      <td>30</td>\n",
       "      <td>ssim</td>\n",
       "      <td>337672</td>\n",
       "      <td>15.19</td>\n",
       "      <td>0.14</td>\n",
       "      <td>531</td>\n",
       "      <td>74.61</td>\n",
       "      <td>198.24</td>\n",
       "      <td>2.8</td>\n",
       "    </tr>\n",
       "    <tr>\n",
       "      <th>1</th>\n",
       "      <td>2</td>\n",
       "      <td>--aud</td>\n",
       "      <td>None</td>\n",
       "      <td>None</td>\n",
       "      <td>None</td>\n",
       "      <td>None</td>\n",
       "      <td>--no-weightb</td>\n",
       "      <td>0.0</td>\n",
       "      <td>1.1</td>\n",
       "      <td>1.2</td>\n",
       "      <td>...</td>\n",
       "      <td>fast</td>\n",
       "      <td>0</td>\n",
       "      <td>grain</td>\n",
       "      <td>904268</td>\n",
       "      <td>8.55</td>\n",
       "      <td>0.16</td>\n",
       "      <td>657</td>\n",
       "      <td>171.65</td>\n",
       "      <td>532.03</td>\n",
       "      <td>1.3</td>\n",
       "    </tr>\n",
       "    <tr>\n",
       "      <th>2</th>\n",
       "      <td>11</td>\n",
       "      <td>None</td>\n",
       "      <td>--constrained-intra</td>\n",
       "      <td>None</td>\n",
       "      <td>--no-asm</td>\n",
       "      <td>--slow-firstpass</td>\n",
       "      <td>--no-weightb</td>\n",
       "      <td>3.0</td>\n",
       "      <td>1.5</td>\n",
       "      <td>1.4</td>\n",
       "      <td>...</td>\n",
       "      <td>ultrafast</td>\n",
       "      <td>0</td>\n",
       "      <td>ssim</td>\n",
       "      <td>183293</td>\n",
       "      <td>7.47</td>\n",
       "      <td>0.17</td>\n",
       "      <td>400</td>\n",
       "      <td>116.50</td>\n",
       "      <td>106.60</td>\n",
       "      <td>1.9</td>\n",
       "    </tr>\n",
       "    <tr>\n",
       "      <th>3</th>\n",
       "      <td>101</td>\n",
       "      <td>--aud</td>\n",
       "      <td>None</td>\n",
       "      <td>None</td>\n",
       "      <td>None</td>\n",
       "      <td>None</td>\n",
       "      <td>--weightb</td>\n",
       "      <td>0.0</td>\n",
       "      <td>1.4</td>\n",
       "      <td>1.2</td>\n",
       "      <td>...</td>\n",
       "      <td>fast</td>\n",
       "      <td>40</td>\n",
       "      <td>grain</td>\n",
       "      <td>587744</td>\n",
       "      <td>3.95</td>\n",
       "      <td>0.09</td>\n",
       "      <td>487</td>\n",
       "      <td>296.68</td>\n",
       "      <td>345.87</td>\n",
       "      <td>0.8</td>\n",
       "    </tr>\n",
       "    <tr>\n",
       "      <th>4</th>\n",
       "      <td>1001</td>\n",
       "      <td>None</td>\n",
       "      <td>None</td>\n",
       "      <td>None</td>\n",
       "      <td>--no-asm</td>\n",
       "      <td>--slow-firstpass</td>\n",
       "      <td>--weightb</td>\n",
       "      <td>1.0</td>\n",
       "      <td>1.2</td>\n",
       "      <td>1.4</td>\n",
       "      <td>...</td>\n",
       "      <td>placebo</td>\n",
       "      <td>30</td>\n",
       "      <td>animation</td>\n",
       "      <td>8594537</td>\n",
       "      <td>33.65</td>\n",
       "      <td>0.11</td>\n",
       "      <td>636</td>\n",
       "      <td>40.56</td>\n",
       "      <td>5071.80</td>\n",
       "      <td>5.3</td>\n",
       "    </tr>\n",
       "  </tbody>\n",
       "</table>\n",
       "<p>5 rows × 41 columns</p>\n",
       "</div>"
      ],
      "text/plain": [
       "   configurationID    aud    constrained-intra intra-refresh    no-asm  \\\n",
       "0                1   None  --constrained-intra          None      None   \n",
       "1                2  --aud                 None          None      None   \n",
       "2               11   None  --constrained-intra          None  --no-asm   \n",
       "3              101  --aud                 None          None      None   \n",
       "4             1001   None                 None          None  --no-asm   \n",
       "\n",
       "     slow-firstpass       weightb  aq-strength  ipratio  pbratio  ...  \\\n",
       "0              None     --weightb          0.0      1.0      1.0  ...   \n",
       "1              None  --no-weightb          0.0      1.1      1.2  ...   \n",
       "2  --slow-firstpass  --no-weightb          3.0      1.5      1.4  ...   \n",
       "3              None     --weightb          0.0      1.4      1.2  ...   \n",
       "4  --slow-firstpass     --weightb          1.0      1.2      1.4  ...   \n",
       "\n",
       "      preset  scenecut       tune     size   user  system  cpu     fps  \\\n",
       "0   veryslow        30       ssim   337672  15.19    0.14  531   74.61   \n",
       "1       fast         0      grain   904268   8.55    0.16  657  171.65   \n",
       "2  ultrafast         0       ssim   183293   7.47    0.17  400  116.50   \n",
       "3       fast        40      grain   587744   3.95    0.09  487  296.68   \n",
       "4    placebo        30  animation  8594537  33.65    0.11  636   40.56   \n",
       "\n",
       "       kbs  etime  \n",
       "0   198.24    2.8  \n",
       "1   532.03    1.3  \n",
       "2   106.60    1.9  \n",
       "3   345.87    0.8  \n",
       "4  5071.80    5.3  \n",
       "\n",
       "[5 rows x 41 columns]"
      ]
     },
     "execution_count": 3,
     "metadata": {},
     "output_type": "execute_result"
    }
   ],
   "source": [
    "def time_to_sec(el):\n",
    "    tab = el.split(\":\")\n",
    "    return float(tab[0])*60+float(tab[1][:-1])\n",
    "\n",
    "files = dict()\n",
    "res =  dict()\n",
    "\n",
    "file_names = sorted(os.listdir('../data/x264'))\n",
    "inputs = [f.split(\"_\")[2] for f in file_names]\n",
    "\n",
    "for i in range(len(inputs)):\n",
    "    files[inputs[i]] = file_names[i]\n",
    "\n",
    "softs = ['x264', 'x265']\n",
    "\n",
    "for soft in softs:\n",
    "    for inp in inputs:\n",
    "        df = pd.read_csv(\"../data/\"+soft+\"/\"+ files[inp])\n",
    "        df['etime'] = [time_to_sec(k) for k in df[\"elapsedtime\"]]\n",
    "        for feat in [\"elapsedtime\"]:#\"user\", \"system\", \n",
    "            del df[feat]\n",
    "        res[soft, inp] = df\n",
    "        \n",
    "to_keep = ['aq-strength', 'ipratio', 'pbratio', 'qblur', 'psy-rd', 'qcomp', 'vbv-init', 'aq-mode', 'b-adapt',\n",
    "           'bframes', 'crf', 'keyint', 'lookahead-threads', 'min-keyint', 'qp', 'qpstep', 'qpmin', \n",
    "           'qpmax', 'rc-lookahead', 'ref', 'vbv-bufsize', 'scenecut', 'aud', 'constrained-intra', \n",
    "           'intra-refresh', 'no-asm', 'slow-firstpass', 'weightb', 'deblock', 'me', 'overscan', \n",
    "           'preset', 'tune']\n",
    "\n",
    "num = ['aq-strength', 'ipratio', 'pbratio', 'qblur', 'qcomp', 'psy-rd', 'qcomp', 'vbv-init', 'aq-mode', \n",
    "       'b-adapt', 'bframes', 'crf', 'keyint', 'lookahead-threads', 'min-keyint', 'qp', 'qpstep', \n",
    "       'qpmin', 'qpmax', 'rc-lookahead', 'ref', 'vbv-bufsize', 'scenecut']\n",
    "\n",
    "categ = ['aud', 'constrained-intra', 'intra-refresh', 'no-asm', 'slow-firstpass', 'weightb', \n",
    "         'deblock', 'me', 'overscan', 'preset', 'tune']\n",
    "\n",
    "perfs = ['cpu', 'etime', 'size', 'system', 'fps', 'user'] \n",
    "\n",
    "# Data for x264 and the Animation video       \n",
    "res[\"x264\", \"Animation\"].head()"
   ]
  },
  {
   "cell_type": "markdown",
   "metadata": {},
   "source": [
    "### Compare performances"
   ]
  },
  {
   "cell_type": "code",
   "execution_count": 4,
   "metadata": {
    "scrolled": false
   },
   "outputs": [
    {
     "name": "stdout",
     "output_type": "stream",
     "text": [
      "\\begin{table}[htb]\n",
      "\\caption{Correlations between the performance distributions of x264 and x265 for several input videos}\n",
      "\\label{tab:corrs}\\vspace*{-0.4cm}\n",
      "\\begin{tabular}{|c|c|c|c|}\n",
      "\\hline\n",
      "Video\n",
      "& cpu\n",
      "& etime\n",
      "& size\n",
      "& system\n",
      "& fps\n",
      "& user\n",
      "\\\\ \\hline\n",
      "Animation\n",
      "& 0.05\n",
      "& 0.74\n",
      "& 0.98\n",
      "& 0.16\n",
      "& -0.09\n",
      "& 0.79\n",
      "\\\\ \\hline\n",
      "CoverSong\n",
      "& 0.0\n",
      "& 0.73\n",
      "& 0.98\n",
      "& 0.2\n",
      "& 0.98\n",
      "& 0.77\n",
      "\\\\ \\hline\n",
      "Gaming\n",
      "& -0.02\n",
      "& 0.81\n",
      "& 0.99\n",
      "& 0.13\n",
      "& 0.99\n",
      "& 0.84\n",
      "\\\\ \\hline\n",
      "Lecture\n",
      "& 0.07\n",
      "& 0.75\n",
      "& 0.98\n",
      "& 0.21\n",
      "& 0.98\n",
      "& 0.79\n",
      "\\\\ \\hline\n",
      "LiveMusic\n",
      "& 0.01\n",
      "& 0.77\n",
      "& 0.99\n",
      "& 0.14\n",
      "& 0.99\n",
      "& 0.81\n",
      "\\\\ \\hline\n",
      "LyricVideo\n",
      "& 0.14\n",
      "& 0.73\n",
      "& 0.96\n",
      "& 0.16\n",
      "& 0.96\n",
      "& 0.75\n",
      "\\\\ \\hline\n",
      "MusicVideo\n",
      "& 0.07\n",
      "& 0.75\n",
      "& 0.99\n",
      "& 0.16\n",
      "& 0.99\n",
      "& 0.79\n",
      "\\\\ \\hline\n",
      "Sports\n",
      "& -0.0\n",
      "& 0.78\n",
      "& 0.98\n",
      "& 0.21\n",
      "& -0.12\n",
      "& 0.83\n",
      "\\\\ \\hline\n",
      "\\end{tabular}\n",
      "\\end{table}\n"
     ]
    }
   ],
   "source": [
    "corrs = dict()\n",
    "\n",
    "for inp in inputs:\n",
    "    for p in perfs:\n",
    "        corrs[inp, p] =  sc.spearmanr(res['x264', inp][p], res['x265', inp][p]).correlation\n",
    "\n",
    "print(\"\\\\begin{table}[htb]\")\n",
    "print(\"\\\\caption{Correlations between the performance distributions of x264 and x265 for several input videos}\")\n",
    "print(\"\\\\label{tab:corrs}\\\\vspace*{-0.4cm}\")\n",
    "print(\"\\\\begin{tabular}{|c|c|c|c|}\")\n",
    "print(\"\\\\hline\")\n",
    "print(\"Video\")\n",
    "for p in perfs:\n",
    "    print(\"& \"+p)\n",
    "print(\"\\\\\\\\ \\\\hline\")\n",
    "for inp in inputs:\n",
    "    print(inp)\n",
    "    for p in perfs:\n",
    "        print(\"& \"+str(np.round(corrs[inp, p],2)))\n",
    "    print(\"\\\\\\\\ \\\\hline\")\n",
    "print(\"\\\\end{tabular}\")\n",
    "print(\"\\\\end{table}\")"
   ]
  },
  {
   "cell_type": "markdown",
   "metadata": {},
   "source": [
    "### Transfer performances"
   ]
  },
  {
   "cell_type": "code",
   "execution_count": 44,
   "metadata": {},
   "outputs": [
    {
     "data": {
      "text/plain": [
       "{(0.01, 'Animation'): 519.5037530750006,\n",
       " (0.02, 'Animation'): 181.35172753092056,\n",
       " (0.03, 'Animation'): 194.29168183035213,\n",
       " (0.05, 'Animation'): 58.54720685289075,\n",
       " (0.1, 'Animation'): 49.349441994818264,\n",
       " (0.2, 'Animation'): 30.42344230988118,\n",
       " (0.3, 'Animation'): 24.38509398802401,\n",
       " (0.5, 'Animation'): 19.698790732471288,\n",
       " (0.7, 'Animation'): 16.394300010353458,\n",
       " (0.9, 'Animation'): 15.323985109125521,\n",
       " (0.01, 'CoverSong'): 635.275109187792,\n",
       " (0.02, 'CoverSong'): 357.21803074413884,\n",
       " (0.03, 'CoverSong'): 137.30438049031147,\n",
       " (0.05, 'CoverSong'): 74.52692755644213,\n",
       " (0.1, 'CoverSong'): 47.789712764462564,\n",
       " (0.2, 'CoverSong'): 29.264374333129172,\n",
       " (0.3, 'CoverSong'): 26.412709439615806,\n",
       " (0.5, 'CoverSong'): 18.864161374931648,\n",
       " (0.7, 'CoverSong'): 17.20731840424434,\n",
       " (0.9, 'CoverSong'): 15.186207725708645,\n",
       " (0.01, 'Gaming'): 894.3578093718198,\n",
       " (0.02, 'Gaming'): 217.66054849515064,\n",
       " (0.03, 'Gaming'): 99.07039664555454,\n",
       " (0.05, 'Gaming'): 56.41873041317247,\n",
       " (0.1, 'Gaming'): 42.17305538658407,\n",
       " (0.2, 'Gaming'): 26.540989303165535,\n",
       " (0.3, 'Gaming'): 22.191382059246205,\n",
       " (0.5, 'Gaming'): 18.690310249621884,\n",
       " (0.7, 'Gaming'): 17.99743734779767,\n",
       " (0.9, 'Gaming'): 11.15924423543361,\n",
       " (0.01, 'Lecture'): 737.0645122336156,\n",
       " (0.02, 'Lecture'): 143.67277500274787,\n",
       " (0.03, 'Lecture'): 117.75034605697381,\n",
       " (0.05, 'Lecture'): 73.5715456607737,\n",
       " (0.1, 'Lecture'): 40.031578609117204,\n",
       " (0.2, 'Lecture'): 31.149701130496403,\n",
       " (0.3, 'Lecture'): 23.007894007474164,\n",
       " (0.5, 'Lecture'): 17.967561509558916,\n",
       " (0.7, 'Lecture'): 16.09085199321171,\n",
       " (0.9, 'Lecture'): 14.212519635810159,\n",
       " (0.01, 'LiveMusic'): 433.6123612237118,\n",
       " (0.02, 'LiveMusic'): 223.08465730763723,\n",
       " (0.03, 'LiveMusic'): 93.64964375543792,\n",
       " (0.05, 'LiveMusic'): 58.11259709235047,\n",
       " (0.1, 'LiveMusic'): 36.144905684421104,\n",
       " (0.2, 'LiveMusic'): 31.632884338935778,\n",
       " (0.3, 'LiveMusic'): 25.268761584510113,\n",
       " (0.5, 'LiveMusic'): 18.707931631733572,\n",
       " (0.7, 'LiveMusic'): 13.601897697246129,\n",
       " (0.9, 'LiveMusic'): 12.997358923705644,\n",
       " (0.01, 'LyricVideo'): 377.27053202411685,\n",
       " (0.02, 'LyricVideo'): 126.7773464601009,\n",
       " (0.03, 'LyricVideo'): 66.59032354593091,\n",
       " (0.05, 'LyricVideo'): 47.467748465397584,\n",
       " (0.1, 'LyricVideo'): 36.27196855773354,\n",
       " (0.2, 'LyricVideo'): 24.495455748328133,\n",
       " (0.3, 'LyricVideo'): 20.390707276368303,\n",
       " (0.5, 'LyricVideo'): 18.435213558717145,\n",
       " (0.7, 'LyricVideo'): 15.583818481414097,\n",
       " (0.9, 'LyricVideo'): 14.123999014667696,\n",
       " (0.01, 'MusicVideo'): 460.6244767935137,\n",
       " (0.02, 'MusicVideo'): 211.65747649166718,\n",
       " (0.03, 'MusicVideo'): 87.15935011889388,\n",
       " (0.05, 'MusicVideo'): 62.48074421656173,\n",
       " (0.1, 'MusicVideo'): 33.88256817490182,\n",
       " (0.2, 'MusicVideo'): 24.35146440606426,\n",
       " (0.3, 'MusicVideo'): 20.424215984038792,\n",
       " (0.5, 'MusicVideo'): 16.45521738130092,\n",
       " (0.7, 'MusicVideo'): 14.667150903493834,\n",
       " (0.9, 'MusicVideo'): 13.230120221990575,\n",
       " (0.01, 'Sports'): 517.6851491638702,\n",
       " (0.02, 'Sports'): 164.04725859838263,\n",
       " (0.03, 'Sports'): 165.71601970992452,\n",
       " (0.05, 'Sports'): 71.2048104224957,\n",
       " (0.1, 'Sports'): 42.15290959212406,\n",
       " (0.2, 'Sports'): 32.76723317443517,\n",
       " (0.3, 'Sports'): 30.05187648983241,\n",
       " (0.5, 'Sports'): 25.023810093128766,\n",
       " (0.7, 'Sports'): 15.700248657727004,\n",
       " (0.9, 'Sports'): 13.409653929745852}"
      ]
     },
     "execution_count": 44,
     "metadata": {},
     "output_type": "execute_result"
    }
   ],
   "source": [
    "def mean_absolute_percentage_error(y_true, y_pred): \n",
    "    y_true, y_pred = np.array(y_true), np.array(y_pred)\n",
    "    return np.mean(np.abs((y_true - y_pred) / y_true)) * 100\n",
    "\n",
    "perf = 'etime'\n",
    "\n",
    "prop_conf_target = [0.01, 0.02, 0.03, 0.05, 0.1, 0.2, 0.3, 0.5, 0.7, 0.9]\n",
    "\n",
    "res_nt = dict()\n",
    "\n",
    "for inp in inputs:\n",
    "    \n",
    "    for pct in prop_conf_target:\n",
    "        \n",
    "        train_size = int(pct*X.shape[0])\n",
    "        df = res['x265', inp]\n",
    "\n",
    "        X = df[num].join(pd.get_dummies(df[categ]))\n",
    "        y = df[perf]\n",
    "\n",
    "        X_train, X_test, y_train, y_test = train_test_split(X, y, train_size=train_size)\n",
    "        \n",
    "        clf = RandomForestRegressor()\n",
    "        clf.fit(X_train, y_train)\n",
    "        y_pred = clf.predict(X_test)\n",
    "        \n",
    "        res_nt[pct, inp] = mean_absolute_percentage_error(y_test, y_pred)\n",
    "\n",
    "res_nt"
   ]
  },
  {
   "cell_type": "code",
   "execution_count": 51,
   "metadata": {
    "scrolled": true
   },
   "outputs": [
    {
     "data": {
      "image/png": "[encoded data removed]",
      "text/plain": [
       "<Figure size 432x288 with 1 Axes>"
      ]
     },
     "metadata": {
      "needs_background": "light"
     },
     "output_type": "display_data"
    },
    {
     "data": {
      "image/png": "[encoded data removed]",
      "text/plain": [
       "<Figure size 432x288 with 1 Axes>"
      ]
     },
     "metadata": {
      "needs_background": "light"
     },
     "output_type": "display_data"
    },
    {
     "data": {
      "image/png": "[encoded data removed]",
      "text/plain": [
       "<Figure size 432x288 with 1 Axes>"
      ]
     },
     "metadata": {
      "needs_background": "light"
     },
     "output_type": "display_data"
    },
    {
     "data": {
      "image/png": "[encoded data removed]",
      "text/plain": [
       "<Figure size 432x288 with 1 Axes>"
      ]
     },
     "metadata": {
      "needs_background": "light"
     },
     "output_type": "display_data"
    },
    {
     "data": {
      "image/png": "[encoded data removed]",
      "text/plain": [
       "<Figure size 432x288 with 1 Axes>"
      ]
     },
     "metadata": {
      "needs_background": "light"
     },
     "output_type": "display_data"
    },
    {
     "data": {
      "image/png": "[encoded data removed]",
      "text/plain": [
       "<Figure size 432x288 with 1 Axes>"
      ]
     },
     "metadata": {
      "needs_background": "light"
     },
     "output_type": "display_data"
    },
    {
     "data": {
      "image/png": "[encoded data removed]",
      "text/plain": [
       "<Figure size 432x288 with 1 Axes>"
      ]
     },
     "metadata": {
      "needs_background": "light"
     },
     "output_type": "display_data"
    },
    {
     "data": {
      "image/png": "[encoded data removed]",
      "text/plain": [
       "<Figure size 432x288 with 1 Axes>"
      ]
     },
     "metadata": {
      "needs_background": "light"
     },
     "output_type": "display_data"
    }
   ],
   "source": [
    "for inp in inputs:\n",
    "    plt.plot(prop_conf_target, [res_nt[p, inp] for p in prop_conf_target], label = 'NT')\n",
    "    plt.grid()\n",
    "    plt.legend()\n",
    "    plt.ylabel(\"MAPE\")\n",
    "    plt.ylim((0, 100))\n",
    "    plt.xlim((0, 1.1))\n",
    "    plt.xlabel(\"Training proportion\")\n",
    "    plt.title(inp)\n",
    "    plt.savefig(\"../results/NT_\"+inp+\".png\")\n",
    "    plt.show()\n",
    "    "
   ]
  },
  {
   "cell_type": "code",
   "execution_count": null,
   "metadata": {},
   "outputs": [],
   "source": []
  },
  {
   "cell_type": "code",
   "execution_count": null,
   "metadata": {},
   "outputs": [],
   "source": []
  }
 ],
 "metadata": {
  "kernelspec": {
   "display_name": "Python 3",
   "language": "python",
   "name": "python3"
  },
  "language_info": {
   "codemirror_mode": {
    "name": "ipython",
    "version": 3
   },
   "file_extension": ".py",
   "mimetype": "text/x-python",
   "name": "python",
   "nbconvert_exporter": "python",
   "pygments_lexer": "ipython3",
   "version": "3.7.6"
  }
 },
 "nbformat": 4,
 "nbformat_minor": 4
}
