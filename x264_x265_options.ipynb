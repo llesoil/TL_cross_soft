{
 "cells": [
  {
   "cell_type": "markdown",
   "metadata": {},
   "source": [
    "### Goal : Generate the files to measure x264 and x265's performances"
   ]
  },
  {
   "cell_type": "markdown",
   "metadata": {},
   "source": [
    "##### Libraries"
   ]
  },
  {
   "cell_type": "code",
   "execution_count": 1,
   "metadata": {},
   "outputs": [],
   "source": [
    "import os, time \n",
    "import numpy as np"
   ]
  },
  {
   "cell_type": "markdown",
   "metadata": {},
   "source": [
    "## A-] Configuration options\n",
    "\n",
    "We define the configuration options common to x264 and x265, that are influential to study software's performances"
   ]
  },
  {
   "cell_type": "code",
   "execution_count": 2,
   "metadata": {},
   "outputs": [
    {
     "name": "stdout",
     "output_type": "stream",
     "text": [
      "We leverage 33 common configuration options between x264 and x265\n"
     ]
    }
   ],
   "source": [
    "# common options and common values, the rest is set to default values\n",
    "nb_cs = 1\n",
    "\n",
    "## common options with arg -> replace with \"--name-option arg-option\"\n",
    "common_arg = {\n",
    "              '--aq-strength' : [str(round(i, nb_cs)) for i in np.arange(0, 3.1, 0.5)],\n",
    "              '--ipratio' : [str(round(i, nb_cs)) for i in np.arange(1, 1.6, 0.1)],\n",
    "              '--pbratio' : [str(round(i, nb_cs)) for i in np.arange(1, 1.5, 0.1)],\n",
    "              '--psy-rd' : [str(round(i, nb_cs)) for i in np.arange(0.2, 5.1, 0.2)],\n",
    "              '--qblur' : [str(round(i, nb_cs)) for i in np.arange(0.2, 0.7, 0.1)],\n",
    "              '--qcomp' : [str(round(i, nb_cs)) for i in np.arange(0.6, 0.9, 0.1)],\n",
    "              '--vbv-init' : [str(round(i, nb_cs)) for i in np.arange(0,1,0.1)],\n",
    "              \n",
    "              '--aq-mode' : [str(i) for i in range(4)],\n",
    "              '--b-adapt' : [str(i) for i in range(3)],\n",
    "              '--bframes' : [str(i) for i in range(0, 17, 2)],\n",
    "              '--crf' : [str(i) for i in range(0, 52, 5)],\n",
    "              '--keyint' : [str(i) for i in range(200, 301, 10)],\n",
    "              '--lookahead-threads' : [str(i) for i in range(5)],\n",
    "              '--min-keyint' : [str(i) for i in range(20, 31, 1)],\n",
    "              '--qp' : [str(i) for i in range(0, 51, 10)],\n",
    "              '--qpstep' : [str(i) for i in range(3, 6, 1)],\n",
    "              '--qpmin' : [str(i) for i in range(5)],\n",
    "              '--qpmax' : [str(i) for i in range(60, 70, 1)],\n",
    "              '--rc-lookahead' : [str(i) for i in range(10, 51, 10)],\n",
    "              '--ref' : [str(i) for i  in range(1, 7, 1)],\n",
    "              '--vbv-bufsize' : [str(i) for i in [1000, 2000]],\n",
    "    \n",
    "              '--deblock' : ['-2:-2', '-1:-1', '1:1'],\n",
    "              '--me' : [\"dia\", \"hex\", \"umh\"],\n",
    "              '--overscan' : [\"show\", \"crop\"],\n",
    "              '--preset' : [\"ultrafast\", \"superfast\", \"veryfast\", \"faster\", \n",
    "                           \"fast\", \"medium\", \"slow\", \"slower\", \"veryslow\", \n",
    "                           \"placebo\"],\n",
    "              '--scenecut' : ['0', '10', '30', '40'],\n",
    "              '--tune': ['psnr', 'ssim', 'grain', 'animation']\n",
    "             }\n",
    "\n",
    "## common options without arg -> replace with \"--val-option\"\n",
    "common_val = {\n",
    "              '--aud' : [\"--aud\", None],\n",
    "              '--constrained-intra' : ['--constrained-intra', None],\n",
    "              '--intra-refresh' : ['--intra-refresh', None],\n",
    "              '--no-asm' : [None, '--no-asm'],\n",
    "              '--slow-firstpass' : ['--slow-firstpass', None],\n",
    "              '--weightb' : ['--weightb', '--no-weightb']\n",
    "             }\n",
    "\n",
    "## constraints implies (feature_name1, feature_values1, feature_name2, feature_values2)\n",
    "constraints =  [\n",
    "                ('--scenecut', ['10', '30', '40'], '--intra-refresh', None),\n",
    "                ('--ref', [str(i) for i  in range(2, 7, 1)], '--intra-refresh', None),\n",
    "               ]\n",
    "\n",
    "print(\"We leverage {0} common configuration options between x264 and x265\"\n",
    "      .format(len(common_val)+len(common_arg)))"
   ]
  },
  {
   "cell_type": "markdown",
   "metadata": {},
   "source": [
    "##  B-] Input videos\n",
    "\n",
    "We apply these configurations on input videos, so we have to define the part of the command line related to the videos"
   ]
  },
  {
   "cell_type": "code",
   "execution_count": 3,
   "metadata": {},
   "outputs": [],
   "source": [
    "## Group 1\n",
    "\n",
    "# Gaming_360P-56fe\n",
    "gaming=\" --input-res 640x360 --fps 24 -o test.mp4 ../inputs/original_videos_Gaming_360P_Gaming_360P-56fe.mkv\"\n",
    "# Sports_360P-4545\n",
    "sports=\" --input-res 624x464 --fps 25 -o test.mp4 ../inputs/original_videos_Sports_360P_Sports_360P-4545.mkv\"\n",
    "\n",
    "\n",
    "## Group 2\n",
    "\n",
    "# Animation_480P-087e\n",
    "animation=\" --input-res 720x480 --fps 15.42 -o test.mp4 ../inputs/original_videos_Animation_480P_Animation_480P-087e.mkv\"\n",
    "# CoverSong_360P-5d20\n",
    "cover=\" --input-res 480x360 --fps 30 -o test.mp4 ../inputs/original_videos_CoverSong_360P_CoverSong_360P-5d20.mkv\"\n",
    "\n",
    "\n",
    "## Group 3\n",
    "\n",
    "# Lecture_360P-114f\n",
    "lecture=\" --input-res 640x360 --fps 25 -o test.mp4 ../inputs/original_videos_Lecture_360P_Lecture_360P-114f.mkv\"\n",
    "# MusicVideo_360P-5699\n",
    "music=\" --input-res 640x360 --fps 30 -o test.mp4 ../inputs/original_videos_MusicVideo_360P_MusicVideo_360P-5699.mkv\"\n",
    "\n",
    "\n",
    "## Group 4\n",
    "\n",
    "# LiveMusic_360P-1d94\n",
    "live=\" --input-res 640x360 --fps 25 -o test.mp4 ../inputs/original_videos_LiveMusic_360P_LiveMusic_360P-1d94.mkv\"\n",
    "# LyricVideo_360P-5e87\n",
    "lyric=\" --input-res 640x360 --fps 6 -o test.mp4 ../inputs/original_videos_LyricVideo_360P_LyricVideo_360P-5e87.mkv\"\n",
    "\n",
    "vids = [gaming, sports, animation, cover, lecture, music, live, lyric]"
   ]
  },
  {
   "cell_type": "markdown",
   "metadata": {},
   "source": [
    "## C-] Software"
   ]
  },
  {
   "cell_type": "code",
   "execution_count": 4,
   "metadata": {},
   "outputs": [],
   "source": [
    "softs = ['x264 ', 'x265 ']"
   ]
  },
  {
   "cell_type": "markdown",
   "metadata": {},
   "source": [
    "## D-] Testing these values"
   ]
  },
  {
   "cell_type": "markdown",
   "metadata": {},
   "source": [
    ">**N.B.** : to automatically test all the possible configurations, we save the logs in the logs.txt file. We then search for \"[error]\" in the txt file."
   ]
  },
  {
   "cell_type": "markdown",
   "metadata": {},
   "source": [
    "##### 1 - Software + Inputs"
   ]
  },
  {
   "cell_type": "code",
   "execution_count": 5,
   "metadata": {
    "scrolled": false
   },
   "outputs": [],
   "source": [
    "with open(\"bash_x26.sh\", \"w\") as f:\n",
    "    f.write(\"echo 'START VIDEOS'\\n\")\n",
    "\n",
    "for software in softs:\n",
    "    for video in vids:\n",
    "        with open(\"bash_x26.sh\", \"a+\") as f:\n",
    "            f.write(\"echo 'testing \"+video+\"'\\n\")\n",
    "            f.write(software+video+\"\\n\")\n",
    "\n",
    "with open(\"bash_x26.sh\", \"a+\") as f:\n",
    "    f.write(\"echo 'END VIDEOS'\\n\")"
   ]
  },
  {
   "cell_type": "markdown",
   "metadata": {},
   "source": [
    "##### 2 - Software + Values (configuration options without argument)"
   ]
  },
  {
   "cell_type": "code",
   "execution_count": 6,
   "metadata": {
    "scrolled": false
   },
   "outputs": [],
   "source": [
    "with open(\"bash_x26.sh\", \"a+\") as f:\n",
    "    f.write(\"echo 'START VALUES OPTIONS'\\n\")\n",
    "\n",
    "for software in softs:\n",
    "    for feature_name in common_val.keys():\n",
    "        values = common_val[feature_name]\n",
    "        for val in values:\n",
    "            if val:\n",
    "                with open(\"bash_x26.sh\", \"a+\") as f:\n",
    "                    f.write(\"echo '\"+val+\"'\\n\")\n",
    "                    f.write(software+val+lyric+\"\\n\")\n",
    "\n",
    "with open(\"bash_x26.sh\", \"a+\") as f:\n",
    "    f.write(\"echo 'END VALUES OPTIONS'\\n\")"
   ]
  },
  {
   "cell_type": "markdown",
   "metadata": {},
   "source": [
    "##### 3 - Software + Arguments (configuration options with argument)"
   ]
  },
  {
   "cell_type": "code",
   "execution_count": 7,
   "metadata": {
    "scrolled": false
   },
   "outputs": [],
   "source": [
    "with open(\"bash_x26.sh\", \"a+\") as f:\n",
    "    f.write(\"echo 'START ARGUMENTS OPTIONS'\\n\")\n",
    "\n",
    "for software in softs:\n",
    "    for feature_name in common_arg.keys():\n",
    "        args = common_arg[feature_name]\n",
    "        for argument in args:\n",
    "            with open(\"bash_x26.sh\", \"a+\") as f:\n",
    "                f.write(\"echo '\"+feature_name+\" \"+argument+\"'\\n\")\n",
    "                f.write(software+feature_name+' '+argument+lyric+\"\\n\")\n",
    "\n",
    "with open(\"bash_x26.sh\", \"a+\") as f:\n",
    "    f.write(\"echo 'END ARGUMENTS OPTIONS'\\n\")"
   ]
  },
  {
   "cell_type": "markdown",
   "metadata": {},
   "source": [
    ">Bash command, **to run in command line once in the folder** : ``bash bash_x26.sh &> logs.txt``"
   ]
  },
  {
   "cell_type": "markdown",
   "metadata": {},
   "source": [
    "## E-] Generating the configurations\n",
    "\n",
    "### 1- Generation \n",
    "\n",
    "We used random sampling to generate the configurations, w.r.t the constraints."
   ]
  },
  {
   "cell_type": "code",
   "execution_count": 48,
   "metadata": {},
   "outputs": [
    {
     "name": "stdout",
     "output_type": "stream",
     "text": [
      "{'--constrained-intra': '--constrained-intra', '--no-asm': '--no-asm', '--slow-firstpass': '--slow-firstpass', '--weightb': '--no-weightb', '--aq-strength': '3.0', '--ipratio': '1.4', '--pbratio': '1.4', '--psy-rd': '4.6', '--qblur': '0.6', '--qcomp': '0.6', '--vbv-init': '0.9', '--aq-mode': '2', '--b-adapt': '1', '--bframes': '6', '--crf': '20', '--keyint': '220', '--lookahead-threads': '2', '--min-keyint': '23', '--qp': '30', '--qpstep': '3', '--qpmin': '1', '--qpmax': '61', '--rc-lookahead': '10', '--ref': '4', '--vbv-bufsize': '2000', '--deblock': '1:1', '--me': 'hex', '--overscan': 'crop', '--preset': 'superfast', '--scenecut': '30', '--tune': 'animation'}\n"
     ]
    }
   ],
   "source": [
    "cmd_line_args = dict()\n",
    "\n",
    "# values and boolean\n",
    "for feature_name in common_val:\n",
    "    values = common_val[feature_name]\n",
    "    val = values[np.random.randint(len(values))]\n",
    "    if val:\n",
    "        cmd_line_args[feature_name] = val\n",
    "\n",
    "# features with arguments\n",
    "for feature_name in common_arg:\n",
    "    args = common_arg[feature_name]\n",
    "    arg = args[np.random.randint(len(args))]\n",
    "    cmd_line_args[feature_name] = arg\n",
    "    \n",
    "# constraints\n",
    "for cs in constraints:\n",
    "    for cmd_name in cmd_line_args:\n",
    "        cmd = cmd_line_args[cmd_name]\n",
    "        if cs[0]==cmd_name and cmd in cs[1]:\n",
    "            if cs[2] in cmd_line_args:\n",
    "                #print(\"{0} changed to {1}\".format(cs[2],cs[3]))\n",
    "                cmd_line_args[cs[2]] = cs[3]\n",
    "                \n",
    "print(cmd_line_args)"
   ]
  },
  {
   "cell_type": "markdown",
   "metadata": {},
   "source": [
    "### 2- Infer constraints from logs\n",
    "\n",
    "Loop -> test new configs -> find new constraints -> add constraints to the generation process -> test new configs w.r.t. the constraints -> find new constraints -> etc."
   ]
  },
  {
   "cell_type": "code",
   "execution_count": null,
   "metadata": {},
   "outputs": [],
   "source": []
  },
  {
   "cell_type": "code",
   "execution_count": null,
   "metadata": {},
   "outputs": [],
   "source": []
  }
 ],
 "metadata": {
  "kernelspec": {
   "display_name": "Python 3",
   "language": "python",
   "name": "python3"
  },
  "language_info": {
   "codemirror_mode": {
    "name": "ipython",
    "version": 3
   },
   "file_extension": ".py",
   "mimetype": "text/x-python",
   "name": "python",
   "nbconvert_exporter": "python",
   "pygments_lexer": "ipython3",
   "version": "3.7.6"
  }
 },
 "nbformat": 4,
 "nbformat_minor": 4
}
